{
 "cells": [
  {
   "cell_type": "code",
   "execution_count": 1,
   "metadata": {},
   "outputs": [
    {
     "data": {
      "text/plain": [
       "\"df1=data.head(7)\\ndf1=pd.DataFrame(df1)\\nindexes=['h1','h2','h3','h4','h5','h6','h7']\\ndf1.set_index([indexes],inplace=True)\\nprint(df1)\""
      ]
     },
     "execution_count": 1,
     "metadata": {},
     "output_type": "execute_result"
    }
   ],
   "source": [
    "import pandas as pd\n",
    "data=pd.read_csv(r\"D:\\personal\\angels one drive\\OneDrive\\Desktop\\Ml lab\\economic-survey-of-manufacturing-sept-2023-csv.csv\")\n",
    "# gives the 1st 5 rows\n",
    "# data.head()\n",
    "#gives the last 5 rows\n",
    "#data.tail()\n",
    "#gives info about the dataset\n",
    "#data.info()\n",
    "#gives statistics of the dataset\n",
    "#data.describe()\n",
    "#gives the selected column of the data set\n",
    "#data['Subject']\n",
    "#gives a row whose indices are integers\n",
    "#data.iloc[0]\n",
    "#gives multiple rows whose indices are integers\n",
    "#data.iloc[[0,1,2,10]]\n",
    "#changing row indices name\n",
    "#data=pd.read_csv(r\"D:\\personal\\angels one drive\\OneDrive\\Desktop\\Ml lab\\economic-survey-of-manufacturing-sept-2023-csv.csv\",index_col='Period')\n",
    "#converting the big data frame into a smallone\n",
    "'''df1=data.head(7)\n",
    "df1=pd.DataFrame(df1)\n",
    "indexes=['h1','h2','h3','h4','h5','h6','h7']\n",
    "df1.set_index([indexes],inplace=True)\n",
    "print(df1)'''\n"
   ]
  },
  {
   "cell_type": "code",
   "execution_count": null,
   "metadata": {},
   "outputs": [],
   "source": [
    "import pandas as pd\n",
    "data=pd.read_csv(r\"D:\\personal\\angels one drive\\OneDrive\\Desktop\\Ml lab\\economic-survey-of-manufacturing-sept-2023-csv.csv\")\n",
    "data\n",
    "data.dropna(inplace=True)\n",
    "data.isnull().sum()\n"
   ]
  }
 ],
 "metadata": {
  "kernelspec": {
   "display_name": "Python 3",
   "language": "python",
   "name": "python3"
  },
  "language_info": {
   "codemirror_mode": {
    "name": "ipython",
    "version": 3
   },
   "file_extension": ".py",
   "mimetype": "text/x-python",
   "name": "python",
   "nbconvert_exporter": "python",
   "pygments_lexer": "ipython3",
   "version": "3.12.0"
  }
 },
 "nbformat": 4,
 "nbformat_minor": 2
}
